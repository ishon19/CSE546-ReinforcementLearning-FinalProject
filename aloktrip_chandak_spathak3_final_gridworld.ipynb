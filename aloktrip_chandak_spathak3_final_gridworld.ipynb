{
  "cells": [
    {
      "cell_type": "markdown",
      "metadata": {
        "id": "Kq3hgPWhI3ZR"
      },
      "source": [
        "We certify that the code and data in this assignment were generated independently, using only the tools and resources defined in the course and that I did not receive any external help, coaching or contributions during the production of this work."
      ]
    },
    {
      "cell_type": "code",
      "execution_count": null,
      "metadata": {
        "id": "O-fRtOo8I4Z3"
      },
      "outputs": [],
      "source": [
        "import numpy as np\n",
        "import matplotlib.pyplot as plt\n",
        "import gym, copy, random\n",
        "from gym import spaces\n",
        "from google.colab import widgets\n",
        "import time\n",
        "import plotly.express as px\n",
        "import torch\n",
        "from collections import deque\n",
        "import copy"
      ]
    },
    {
      "cell_type": "markdown",
      "metadata": {
        "id": "EgqTLPlOrC9L"
      },
      "source": [
        "# Environment"
      ]
    },
    {
      "cell_type": "code",
      "execution_count": null,
      "metadata": {
        "id": "NM9mXUhoPt26"
      },
      "outputs": [],
      "source": [
        "class GridEnvironment(gym.Env):\n",
        "  metadata = { 'render.modes': []}\n",
        "\n",
        "  def __init__(self):\n",
        "    self.observation_space = spaces.Discrete(49)\n",
        "    self.action_space = spaces.Discrete(4)\n",
        "    self.max_timesteps = 10\n",
        "    self.timestep1 = 0\n",
        "    self.timestep2 = 0\n",
        "    self.agent_pos1 = [0, 0]\n",
        "    self.agent_pos2 = [6, 6]\n",
        "    self.gold =[6, 3]\n",
        "    self.monster1 =[3, 6]\n",
        "    self.monster2 =[3, 0]\n",
        "    self.dimond =[0, 3]\n",
        "    self.goal_pos = [3, 3]\n",
        "    self.state = np.zeros((7, 7))\n",
        "    self.state[tuple(self.agent_pos1)] = 1\n",
        "    self.state[tuple(self.agent_pos2)] = 1\n",
        "    self.state[tuple(self.goal_pos)] = 1\n",
        "    self.reward1 = 0\n",
        "    self.reward2 = 0\n",
        "    self.done1 = False\n",
        "    self.done2 = False\n",
        "    self.discFact = 0.95\n",
        "    self.isGold = False\n",
        "    self.isDimond = False\n",
        "  # This method will rwset the environment.\n",
        "  def reset(self):\n",
        "    self.timestep1 = 0\n",
        "    self.timestep2 = 0\n",
        "    self.agent_pos1 = [0, 0]\n",
        "    self.agent_pos2 = [6, 6]\n",
        "    self.reward1 = 0\n",
        "    self.reward2 = 0\n",
        "    self.__colorCode()\n",
        "    self.done1 = False\n",
        "    self.done2 = False\n",
        "    self.isGold = False\n",
        "    self.isDimond = False\n",
        "    observation = self.state.flatten()\n",
        "    return observation\n",
        "  # This Method will execute the steps based on action provided.\n",
        "  def step(self, action, isAgent1):\n",
        "    self.__colorCode()\n",
        "    self.__getPosition(action, isAgent1)\n",
        "    self.state = np.zeros((7,7))\n",
        "    self.__colorCode()\n",
        "    observation = self.state\n",
        "    self.__getRewards(isAgent1)\n",
        "    if isAgent1:\n",
        "      self.timestep1 +=1\n",
        "      self.done1 = True if self.timestep1 >= self.max_timesteps or self.done1 else False\n",
        "      return self.reward1, self.done1, observation\n",
        "    else: \n",
        "      self.timestep2 +=1\n",
        "      self.done2 = True if self.timestep2 >= self.max_timesteps or self.done2 else False\n",
        "      return self.reward2, self.done2, observation\n",
        "  # It is used to visualize the Environment.\n",
        "  def render(self):\n",
        "    plt.title('Grid World')\n",
        "    plt.imshow(self.state)\n",
        "  # It will determine action using deterministic environment.\n",
        "  def __getPosition(self, action, isAgent1):\n",
        "    if isAgent1:\n",
        "      if action == 0:\n",
        "        self.agent_pos1[0] += 1\n",
        "      elif action == 1:\n",
        "        self.agent_pos1[0] -= 1\n",
        "      elif action == 2:\n",
        "        self.agent_pos1[1] += 1\n",
        "      elif action == 3:\n",
        "        self.agent_pos1[1] -= 1\n",
        "      self.agent_pos1 = np.clip(self.agent_pos1, 0, 6)\n",
        "    else:\n",
        "      if action == 0:\n",
        "        self.agent_pos2[0] += 1\n",
        "      elif action == 1:\n",
        "        self.agent_pos2[0] -= 1\n",
        "      elif action == 2:\n",
        "        self.agent_pos2[1] += 1\n",
        "      elif action == 3:\n",
        "        self.agent_pos2[1] -= 1\n",
        "      self.agent_pos2 = np.clip(self.agent_pos2, 0, 6)\n",
        "  # This method will set the color of different reward position and agent.\n",
        "  def __colorCode(self):\n",
        "    self.state[tuple(self.agent_pos1)] = 1\n",
        "    self.state[tuple(self.agent_pos2)] = 1\n",
        "    self.state[tuple(self.goal_pos)] = 1\n",
        "    self.state[tuple(self.monster1)] = 1\n",
        "    self.state[tuple(self.monster2)] = 1\n",
        "    self.state[tuple(self.gold)] = 1\n",
        "    self.state[tuple(self.dimond)] = 1\n",
        "  # This method will return the reward.\n",
        "  def __getRewards(self, isAgent1):\n",
        "    if isAgent1:\n",
        "      if (self.agent_pos1 == self.goal_pos).all():\n",
        "        self.reward1 += 10 *(self.discFact**self.timestep1)\n",
        "        self.done1  = True\n",
        "      elif (self.agent_pos1 == self.monster1).all() or (self.agent_pos1 == self.monster2).all():\n",
        "        self.reward1 -= 5*(self.discFact**self.timestep1)\n",
        "      elif (self.agent_pos1 == self.gold).all() and not self.isGold:\n",
        "        self.reward1 += 3*(self.discFact**self.timestep1)\n",
        "        self.isGold = True\n",
        "      elif (self.agent_pos1== self.dimond).all() and not self.isDimond:\n",
        "        self.reward1 += 5*(self.discFact**self.timestep1)\n",
        "        self.isDimond = True\n",
        "      else:\n",
        "        self.reward1 -= 1*(self.discFact**self.timestep1)\n",
        "    else:\n",
        "      if (self.agent_pos2 == self.goal_pos).all():\n",
        "        self.reward2 += 10 *(self.discFact**self.timestep2)\n",
        "        self.done2  = True\n",
        "      elif (self.agent_pos2 == self.monster1).all() or (self.agent_pos2 == self.monster2).all():\n",
        "        self.reward2 -= 5*(self.discFact**self.timestep2)\n",
        "      elif (self.agent_pos2 == self.gold).all() and not self.isGold:\n",
        "        self.reward2 += 3*(self.discFact**self.timestep2)\n",
        "        self.isGold = True\n",
        "      elif (self.agent_pos2 == self.dimond).all() and not self.isDimond:\n",
        "        self.reward2 += 5*(self.discFact**self.timestep2)\n",
        "        self.isDimond = True\n",
        "      else:\n",
        "        self.reward2 -= 1*(self.discFact**self.timestep2)"
      ]
    },
    {
      "cell_type": "code",
      "execution_count": null,
      "metadata": {
        "colab": {
          "base_uri": "https://localhost:8080/",
          "height": 281
        },
        "id": "Z0g2MacpQT-l",
        "outputId": "4bdfde70-43d1-441c-beb8-e17fd87d85bd"
      },
      "outputs": [
        {
          "data": {
            "image/png": "[encoded data removed]",
            "text/plain": [
              "<Figure size 432x288 with 1 Axes>"
            ]
          },
          "metadata": {
            "needs_background": "light"
          },
          "output_type": "display_data"
        }
      ],
      "source": [
        "env = GridEnvironment()\n",
        "obs = env.reset()\n",
        "env.render()"
      ]
    },
    {
      "cell_type": "code",
      "execution_count": null,
      "metadata": {
        "id": "OHaqI0iUGpOD"
      },
      "outputs": [],
      "source": [
        "class RandomAgent:\n",
        "  def __init__(self, env):\n",
        "    self.env = env\n",
        "    self.observation_space = env.observation_space\n",
        "    self.action_space = env.action_space\n",
        "  # This Method will choose steps randomly.\n",
        "  def step(self, observation):\n",
        "    return np.random.choice(self.action_space.n)"
      ]
    },
    {
      "cell_type": "code",
      "execution_count": null,
      "metadata": {
        "colab": {
          "base_uri": "https://localhost:8080/",
          "height": 285
        },
        "id": "nZRqqo0wG8or",
        "outputId": "ab193016-bb12-4cce-efea-1e9a2ef05e30"
      },
      "outputs": [
        {
          "data": {
            "text/html": [
              "<style>\n",
              "       table#id2, #id2 > tbody > tr > th, #id2 > tbody > tr > td {\n",
              "         border: 1px solid lightgray;\n",
              "         border-collapse:collapse;\n",
              "         \n",
              "        }</style>"
            ],
            "text/plain": [
              "<IPython.core.display.HTML object>"
            ]
          },
          "metadata": {},
          "output_type": "display_data"
        },
        {
          "data": {
            "text/html": [
              "<table id=id2><tr><td id=id2-0-0></td></tr></table>"
            ],
            "text/plain": [
              "<IPython.core.display.HTML object>"
            ]
          },
          "metadata": {},
          "output_type": "display_data"
        },
        {
          "data": {
            "application/javascript": "window[\"0af55fcc-ce2b-11ec-b267-0242ac1c0002\"] = google.colab.output.getActiveOutputArea();\n//# sourceURL=js_b11fb1ec50",
            "text/plain": [
              "<IPython.core.display.Javascript object>"
            ]
          },
          "metadata": {},
          "output_type": "display_data"
        },
        {
          "data": {
            "application/javascript": "window[\"0af5b1ac-ce2b-11ec-b267-0242ac1c0002\"] = document.querySelector(\"#id2-0-0\");\n//# sourceURL=js_7fddd17c92",
            "text/plain": [
              "<IPython.core.display.Javascript object>"
            ]
          },
          "metadata": {},
          "output_type": "display_data"
        },
        {
          "data": {
            "application/javascript": "window[\"0af68fc8-ce2b-11ec-b267-0242ac1c0002\"] = google.colab.output.setActiveOutputArea(window[\"0af5b1ac-ce2b-11ec-b267-0242ac1c0002\"]);\n//# sourceURL=js_06daae7158",
            "text/plain": [
              "<IPython.core.display.Javascript object>"
            ]
          },
          "metadata": {},
          "output_type": "display_data"
        },
        {
          "data": {
            "application/javascript": "window[\"0b1351ee-ce2b-11ec-b267-0242ac1c0002\"] = google.colab.output.setActiveOutputArea(window[\"0af55fcc-ce2b-11ec-b267-0242ac1c0002\"]);\n//# sourceURL=js_b11c9a6d68",
            "text/plain": [
              "<IPython.core.display.Javascript object>"
            ]
          },
          "metadata": {},
          "output_type": "display_data"
        },
        {
          "data": {
            "application/javascript": "window[\"0b187ea8-ce2b-11ec-b267-0242ac1c0002\"] = google.colab.output.getActiveOutputArea();\n//# sourceURL=js_765e3d57f3",
            "text/plain": [
              "<IPython.core.display.Javascript object>"
            ]
          },
          "metadata": {},
          "output_type": "display_data"
        },
        {
          "data": {
            "application/javascript": "window[\"0b19d5fa-ce2b-11ec-b267-0242ac1c0002\"] = document.querySelector(\"#id2-0-0\");\n//# sourceURL=js_5ef0c57167",
            "text/plain": [
              "<IPython.core.display.Javascript object>"
            ]
          },
          "metadata": {},
          "output_type": "display_data"
        },
        {
          "data": {
            "application/javascript": "window[\"0b1c47b8-ce2b-11ec-b267-0242ac1c0002\"] = google.colab.output.setActiveOutputArea(window[\"0b19d5fa-ce2b-11ec-b267-0242ac1c0002\"]);\n//# sourceURL=js_48d971b127",
            "text/plain": [
              "<IPython.core.display.Javascript object>"
            ]
          },
          "metadata": {},
          "output_type": "display_data"
        },
        {
          "data": {
            "application/javascript": "window[\"0b3bfaf4-ce2b-11ec-b267-0242ac1c0002\"] = google.colab.output.setActiveOutputArea(window[\"0b187ea8-ce2b-11ec-b267-0242ac1c0002\"]);\n//# sourceURL=js_60387079d6",
            "text/plain": [
              "<IPython.core.display.Javascript object>"
            ]
          },
          "metadata": {},
          "output_type": "display_data"
        },
        {
          "data": {
            "application/javascript": "window[\"0bda1d06-ce2b-11ec-b267-0242ac1c0002\"] = google.colab.output.getActiveOutputArea();\n//# sourceURL=js_23c867d520",
            "text/plain": [
              "<IPython.core.display.Javascript object>"
            ]
          },
          "metadata": {},
          "output_type": "display_data"
        },
        {
          "data": {
            "application/javascript": "window[\"0bdaa514-ce2b-11ec-b267-0242ac1c0002\"] = document.querySelector(\"#id2-0-0\");\n//# sourceURL=js_6956f8b1e5",
            "text/plain": [
              "<IPython.core.display.Javascript object>"
            ]
          },
          "metadata": {},
          "output_type": "display_data"
        },
        {
          "data": {
            "application/javascript": "window[\"0bdb26ec-ce2b-11ec-b267-0242ac1c0002\"] = google.colab.output.setActiveOutputArea(window[\"0bdaa514-ce2b-11ec-b267-0242ac1c0002\"]);\n//# sourceURL=js_40e7296ab0",
            "text/plain": [
              "<IPython.core.display.Javascript object>"
            ]
          },
          "metadata": {},
          "output_type": "display_data"
        },
        {
          "data": {
            "application/javascript": "window[\"0bf97ba6-ce2b-11ec-b267-0242ac1c0002\"] = google.colab.output.setActiveOutputArea(window[\"0bda1d06-ce2b-11ec-b267-0242ac1c0002\"]);\n//# sourceURL=js_db118e39ff",
            "text/plain": [
              "<IPython.core.display.Javascript object>"
            ]
          },
          "metadata": {},
          "output_type": "display_data"
        },
        {
          "data": {
            "application/javascript": "window[\"0c9599d2-ce2b-11ec-b267-0242ac1c0002\"] = google.colab.output.getActiveOutputArea();\n//# sourceURL=js_10bc92aeb4",
            "text/plain": [
              "<IPython.core.display.Javascript object>"
            ]
          },
          "metadata": {},
          "output_type": "display_data"
        },
        {
          "data": {
            "application/javascript": "window[\"0c963c70-ce2b-11ec-b267-0242ac1c0002\"] = document.querySelector(\"#id2-0-0\");\n//# sourceURL=js_8a5049dd45",
            "text/plain": [
              "<IPython.core.display.Javascript object>"
            ]
          },
          "metadata": {},
          "output_type": "display_data"
        },
        {
          "data": {
            "application/javascript": "window[\"0c96a9a8-ce2b-11ec-b267-0242ac1c0002\"] = google.colab.output.setActiveOutputArea(window[\"0c963c70-ce2b-11ec-b267-0242ac1c0002\"]);\n//# sourceURL=js_bff5d30227",
            "text/plain": [
              "<IPython.core.display.Javascript object>"
            ]
          },
          "metadata": {},
          "output_type": "display_data"
        },
        {
          "data": {
            "application/javascript": "window[\"0cb7392a-ce2b-11ec-b267-0242ac1c0002\"] = google.colab.output.setActiveOutputArea(window[\"0c9599d2-ce2b-11ec-b267-0242ac1c0002\"]);\n//# sourceURL=js_43daf068dd",
            "text/plain": [
              "<IPython.core.display.Javascript object>"
            ]
          },
          "metadata": {},
          "output_type": "display_data"
        },
        {
          "data": {
            "application/javascript": "window[\"0d54645c-ce2b-11ec-b267-0242ac1c0002\"] = google.colab.output.getActiveOutputArea();\n//# sourceURL=js_efb859109f",
            "text/plain": [
              "<IPython.core.display.Javascript object>"
            ]
          },
          "metadata": {},
          "output_type": "display_data"
        },
        {
          "data": {
            "application/javascript": "window[\"0d54e8e6-ce2b-11ec-b267-0242ac1c0002\"] = document.querySelector(\"#id2-0-0\");\n//# sourceURL=js_35d8c3a133",
            "text/plain": [
              "<IPython.core.display.Javascript object>"
            ]
          },
          "metadata": {},
          "output_type": "display_data"
        },
        {
          "data": {
            "application/javascript": "window[\"0d558580-ce2b-11ec-b267-0242ac1c0002\"] = google.colab.output.setActiveOutputArea(window[\"0d54e8e6-ce2b-11ec-b267-0242ac1c0002\"]);\n//# sourceURL=js_f61d2ca1aa",
            "text/plain": [
              "<IPython.core.display.Javascript object>"
            ]
          },
          "metadata": {},
          "output_type": "display_data"
        },
        {
          "data": {
            "application/javascript": "window[\"0d73ba3c-ce2b-11ec-b267-0242ac1c0002\"] = google.colab.output.setActiveOutputArea(window[\"0d54645c-ce2b-11ec-b267-0242ac1c0002\"]);\n//# sourceURL=js_0eb7512368",
            "text/plain": [
              "<IPython.core.display.Javascript object>"
            ]
          },
          "metadata": {},
          "output_type": "display_data"
        },
        {
          "data": {
            "application/javascript": "window[\"0e1083e4-ce2b-11ec-b267-0242ac1c0002\"] = google.colab.output.getActiveOutputArea();\n//# sourceURL=js_25afb14c44",
            "text/plain": [
              "<IPython.core.display.Javascript object>"
            ]
          },
          "metadata": {},
          "output_type": "display_data"
        },
        {
          "data": {
            "application/javascript": "window[\"0e110828-ce2b-11ec-b267-0242ac1c0002\"] = document.querySelector(\"#id2-0-0\");\n//# sourceURL=js_6b076556c1",
            "text/plain": [
              "<IPython.core.display.Javascript object>"
            ]
          },
          "metadata": {},
          "output_type": "display_data"
        },
        {
          "data": {
            "application/javascript": "window[\"0e115efe-ce2b-11ec-b267-0242ac1c0002\"] = google.colab.output.setActiveOutputArea(window[\"0e110828-ce2b-11ec-b267-0242ac1c0002\"]);\n//# sourceURL=js_2b1343c823",
            "text/plain": [
              "<IPython.core.display.Javascript object>"
            ]
          },
          "metadata": {},
          "output_type": "display_data"
        },
        {
          "data": {
            "application/javascript": "window[\"0e300304-ce2b-11ec-b267-0242ac1c0002\"] = google.colab.output.setActiveOutputArea(window[\"0e1083e4-ce2b-11ec-b267-0242ac1c0002\"]);\n//# sourceURL=js_d540eef606",
            "text/plain": [
              "<IPython.core.display.Javascript object>"
            ]
          },
          "metadata": {},
          "output_type": "display_data"
        },
        {
          "data": {
            "application/javascript": "window[\"0eccbc62-ce2b-11ec-b267-0242ac1c0002\"] = google.colab.output.getActiveOutputArea();\n//# sourceURL=js_ba479e7f15",
            "text/plain": [
              "<IPython.core.display.Javascript object>"
            ]
          },
          "metadata": {},
          "output_type": "display_data"
        },
        {
          "data": {
            "application/javascript": "window[\"0ecd2c88-ce2b-11ec-b267-0242ac1c0002\"] = document.querySelector(\"#id2-0-0\");\n//# sourceURL=js_28b1da82be",
            "text/plain": [
              "<IPython.core.display.Javascript object>"
            ]
          },
          "metadata": {},
          "output_type": "display_data"
        },
        {
          "data": {
            "application/javascript": "window[\"0ecdb96e-ce2b-11ec-b267-0242ac1c0002\"] = google.colab.output.setActiveOutputArea(window[\"0ecd2c88-ce2b-11ec-b267-0242ac1c0002\"]);\n//# sourceURL=js_4580209190",
            "text/plain": [
              "<IPython.core.display.Javascript object>"
            ]
          },
          "metadata": {},
          "output_type": "display_data"
        },
        {
          "data": {
            "application/javascript": "window[\"0eedfb66-ce2b-11ec-b267-0242ac1c0002\"] = google.colab.output.setActiveOutputArea(window[\"0eccbc62-ce2b-11ec-b267-0242ac1c0002\"]);\n//# sourceURL=js_62da0f96e3",
            "text/plain": [
              "<IPython.core.display.Javascript object>"
            ]
          },
          "metadata": {},
          "output_type": "display_data"
        },
        {
          "data": {
            "application/javascript": "window[\"0f8a3b84-ce2b-11ec-b267-0242ac1c0002\"] = google.colab.output.getActiveOutputArea();\n//# sourceURL=js_b0de95b40f",
            "text/plain": [
              "<IPython.core.display.Javascript object>"
            ]
          },
          "metadata": {},
          "output_type": "display_data"
        },
        {
          "data": {
            "application/javascript": "window[\"0f8a9e30-ce2b-11ec-b267-0242ac1c0002\"] = document.querySelector(\"#id2-0-0\");\n//# sourceURL=js_97934d48b6",
            "text/plain": [
              "<IPython.core.display.Javascript object>"
            ]
          },
          "metadata": {},
          "output_type": "display_data"
        },
        {
          "data": {
            "application/javascript": "window[\"0f8b36ec-ce2b-11ec-b267-0242ac1c0002\"] = google.colab.output.setActiveOutputArea(window[\"0f8a9e30-ce2b-11ec-b267-0242ac1c0002\"]);\n//# sourceURL=js_d63dbfa3e2",
            "text/plain": [
              "<IPython.core.display.Javascript object>"
            ]
          },
          "metadata": {},
          "output_type": "display_data"
        },
        {
          "data": {
            "application/javascript": "window[\"0fa855c4-ce2b-11ec-b267-0242ac1c0002\"] = google.colab.output.setActiveOutputArea(window[\"0f8a3b84-ce2b-11ec-b267-0242ac1c0002\"]);\n//# sourceURL=js_b1d51b65ea",
            "text/plain": [
              "<IPython.core.display.Javascript object>"
            ]
          },
          "metadata": {},
          "output_type": "display_data"
        },
        {
          "data": {
            "application/javascript": "window[\"104407bc-ce2b-11ec-b267-0242ac1c0002\"] = google.colab.output.getActiveOutputArea();\n//# sourceURL=js_92d0a90197",
            "text/plain": [
              "<IPython.core.display.Javascript object>"
            ]
          },
          "metadata": {},
          "output_type": "display_data"
        },
        {
          "data": {
            "application/javascript": "window[\"10445ffa-ce2b-11ec-b267-0242ac1c0002\"] = document.querySelector(\"#id2-0-0\");\n//# sourceURL=js_73ce2afebf",
            "text/plain": [
              "<IPython.core.display.Javascript object>"
            ]
          },
          "metadata": {},
          "output_type": "display_data"
        },
        {
          "data": {
            "application/javascript": "window[\"1044d8b8-ce2b-11ec-b267-0242ac1c0002\"] = google.colab.output.setActiveOutputArea(window[\"10445ffa-ce2b-11ec-b267-0242ac1c0002\"]);\n//# sourceURL=js_375c5d7427",
            "text/plain": [
              "<IPython.core.display.Javascript object>"
            ]
          },
          "metadata": {},
          "output_type": "display_data"
        },
        {
          "data": {
            "application/javascript": "window[\"10654828-ce2b-11ec-b267-0242ac1c0002\"] = google.colab.output.setActiveOutputArea(window[\"104407bc-ce2b-11ec-b267-0242ac1c0002\"]);\n//# sourceURL=js_3210c4ee5b",
            "text/plain": [
              "<IPython.core.display.Javascript object>"
            ]
          },
          "metadata": {},
          "output_type": "display_data"
        },
        {
          "data": {
            "application/javascript": "window[\"1101d1de-ce2b-11ec-b267-0242ac1c0002\"] = google.colab.output.getActiveOutputArea();\n//# sourceURL=js_a7056e00e0",
            "text/plain": [
              "<IPython.core.display.Javascript object>"
            ]
          },
          "metadata": {},
          "output_type": "display_data"
        },
        {
          "data": {
            "application/javascript": "window[\"110230ac-ce2b-11ec-b267-0242ac1c0002\"] = document.querySelector(\"#id2-0-0\");\n//# sourceURL=js_e5d92080ff",
            "text/plain": [
              "<IPython.core.display.Javascript object>"
            ]
          },
          "metadata": {},
          "output_type": "display_data"
        },
        {
          "data": {
            "application/javascript": "window[\"11028e94-ce2b-11ec-b267-0242ac1c0002\"] = google.colab.output.setActiveOutputArea(window[\"110230ac-ce2b-11ec-b267-0242ac1c0002\"]);\n//# sourceURL=js_552d885e8f",
            "text/plain": [
              "<IPython.core.display.Javascript object>"
            ]
          },
          "metadata": {},
          "output_type": "display_data"
        },
        {
          "data": {
            "application/javascript": "window[\"112497dc-ce2b-11ec-b267-0242ac1c0002\"] = google.colab.output.setActiveOutputArea(window[\"1101d1de-ce2b-11ec-b267-0242ac1c0002\"]);\n//# sourceURL=js_c8060b9335",
            "text/plain": [
              "<IPython.core.display.Javascript object>"
            ]
          },
          "metadata": {},
          "output_type": "display_data"
        },
        {
          "data": {
            "application/javascript": "window[\"11c13ede-ce2b-11ec-b267-0242ac1c0002\"] = google.colab.output.getActiveOutputArea();\n//# sourceURL=js_af18a232f0",
            "text/plain": [
              "<IPython.core.display.Javascript object>"
            ]
          },
          "metadata": {},
          "output_type": "display_data"
        },
        {
          "data": {
            "application/javascript": "window[\"11c19b36-ce2b-11ec-b267-0242ac1c0002\"] = document.querySelector(\"#id2-0-0\");\n//# sourceURL=js_08198771df",
            "text/plain": [
              "<IPython.core.display.Javascript object>"
            ]
          },
          "metadata": {},
          "output_type": "display_data"
        },
        {
          "data": {
            "application/javascript": "window[\"11c1e12c-ce2b-11ec-b267-0242ac1c0002\"] = google.colab.output.setActiveOutputArea(window[\"11c19b36-ce2b-11ec-b267-0242ac1c0002\"]);\n//# sourceURL=js_a8512dcaae",
            "text/plain": [
              "<IPython.core.display.Javascript object>"
            ]
          },
          "metadata": {},
          "output_type": "display_data"
        },
        {
          "data": {
            "image/png": "[encoded data removed]",
            "text/plain": [
              "<Figure size 432x288 with 1 Axes>"
            ]
          },
          "metadata": {
            "needs_background": "light"
          },
          "output_type": "display_data"
        },
        {
          "data": {
            "application/javascript": "window[\"11e2e7e6-ce2b-11ec-b267-0242ac1c0002\"] = google.colab.output.setActiveOutputArea(window[\"11c13ede-ce2b-11ec-b267-0242ac1c0002\"]);\n//# sourceURL=js_b90ac17283",
            "text/plain": [
              "<IPython.core.display.Javascript object>"
            ]
          },
          "metadata": {},
          "output_type": "display_data"
        }
      ],
      "source": [
        "env = GridEnvironment()\n",
        "agent1 = RandomAgent(env)\n",
        "agent2 = RandomAgent(env)\n",
        "obs = env.reset()\n",
        "done1 = False\n",
        "done2 = False\n",
        "output_grid = widgets.Grid(1, 1)\n",
        "with output_grid.output_to(0, 0):\n",
        "  env.render()\n",
        "while not done1 or not done2:\n",
        "  if not done1:\n",
        "    action = agent1.step(obs)\n",
        "    reward, done1, obs = env.step(action, True)\n",
        "  if not done2:\n",
        "    action = agent2.step(obs)\n",
        "    reward, done2, obs = env.step(action, False)\n",
        "  with output_grid.output_to(0, 0):\n",
        "    output_grid.clear_cell()\n",
        "    env.render()\n",
        "  time.sleep(1)"
      ]
    },
    {
      "cell_type": "markdown",
      "metadata": {
        "id": "7BjteUh3q_jN"
      },
      "source": [
        "# DQN"
      ]
    },
    {
      "cell_type": "code",
      "execution_count": null,
      "metadata": {
        "id": "FoHpdmHZQUtD"
      },
      "outputs": [],
      "source": [
        "model = torch.nn.Sequential(\n",
        "    torch.nn.Linear(49, 64),\n",
        "    torch.nn.Linear(64, 128),\n",
        "    torch.nn.Linear(128,4)\n",
        ")\n",
        "mse = torch.nn.MSELoss()\n",
        "optimizer = torch.optim.Adam(model.parameters(), lr=0.005)"
      ]
    },
    {
      "cell_type": "code",
      "execution_count": null,
      "metadata": {
        "id": "KCs99TDIxvK8"
      },
      "outputs": [],
      "source": [
        "class SmartAgent():\n",
        "    def __init__(self, env, isLearn = True):\n",
        "      self.env = env\n",
        "      self.epsilon = 1\n",
        "      self.action_space = env.action_space\n",
        "      self.isLearn = isLearn\n",
        "\n",
        "    def getAction(self, action_space, q_val):\n",
        "      if np.random.uniform(0,1) < self.epsilon and self.isLearn:\n",
        "          return np.random.choice(self.action_space.n)\n",
        "      else:\n",
        "        return np.argmax(q_val)"
      ]
    },
    {
      "cell_type": "code",
      "execution_count": null,
      "metadata": {
        "id": "Cj_GrZgzwbK_"
      },
      "outputs": [],
      "source": [
        "class RunAgent():\n",
        "  def __init__(self, decay = 0.99, gamma = 0.95):\n",
        "    self.episode_rewards = []\n",
        "    self.epsilon_decay = []\n",
        "    self.decay = decay\n",
        "    self.gamma = gamma\n",
        "    self.stepsPerEpi = []\n",
        "    self.losses = []\n",
        "    self.expReplay = deque(maxlen=100)\n",
        "    self.batchSize = 50\n",
        "\n",
        "  # This Method will make the agent run based on DQN.\n",
        "  def runAgentDQN(self, env, agent, episode):\n",
        "    for i in range(episode):\n",
        "        env.reset()\n",
        "        done1 =False\n",
        "        done2 =False\n",
        "        agent.epsilon = agent.epsilon*self.decay\n",
        "        obs1Agnt1 = copy.deepcopy(env.state)\n",
        "        obs1Agnt1[tuple(env.agent_pos2)] = 0\n",
        "        obs1Agnt1 = torch.from_numpy(obs1Agnt1.flatten()).float()\n",
        "        obs1Agnt2 = copy.deepcopy(env.state)\n",
        "        obs1Agnt2[tuple(env.agent_pos1)] = 0\n",
        "        obs1Agnt2 = torch.from_numpy(obs1Agnt2.flatten()).float()\n",
        "        while not done1 or not done2:\n",
        "            # Agent 1\n",
        "          if not done1:\n",
        "            q_Val = model(obs1Agnt1)\n",
        "            action = agent.getAction(env.action_space, q_Val.data.numpy())\n",
        "            reward1, done1, obs2Agnt1 = env.step(action, True)\n",
        "            obs2Agnt1[tuple(env.agent_pos2)] = 0\n",
        "            obs2Agnt1 = torch.from_numpy(obs2Agnt1.flatten()).float()\n",
        "            self.expReplay.append((obs1Agnt1,action,reward1,obs2Agnt1, 1 if done1 else 0))\n",
        "            obs1Agnt1 = obs2Agnt1\n",
        "          #Agent 2\n",
        "          if not done2:\n",
        "            q_Val = model(obs1Agnt2)\n",
        "            action = agent.getAction(env.action_space, q_Val.data.numpy())\n",
        "            reward2, done2, obs2Agnt2 = env.step(action, False)\n",
        "            obs2Agnt2[tuple(env.agent_pos1)] = 0\n",
        "            obs2Agnt2 = torch.from_numpy(obs2Agnt2.flatten()).float()\n",
        "            self.expReplay.append((obs1Agnt2,action,reward2,obs2Agnt2, 1 if done2 else 0))\n",
        "            obs1Agnt2 = obs2Agnt2\n",
        "          if len(self.expReplay) > self.batchSize:                                    \n",
        "            minibatch = random.sample(self.expReplay, self.batchSize)\n",
        "            obs1Batch = torch.cat([torch.reshape(o1,(1,49)) for (o1,a,r,o2,d) in minibatch])\n",
        "            actBatch = torch.Tensor([a for (o1,a,r,o2,d) in minibatch])\n",
        "            rwrdbatch = torch.Tensor([r for (o1,a,r,o2,d) in minibatch])\n",
        "            obs2Batch = torch.cat([torch.reshape(o2,(1,49)) for (o1,a,r,o2,d) in minibatch],0)\n",
        "            isDonebatch = torch.Tensor([d for (o1,a,r,o2,d) in minibatch])\n",
        "            qVal1 = model(obs1Batch)\n",
        "            with torch.no_grad():\n",
        "                qVal2 = model(obs2Batch) \n",
        "            y_q = rwrdbatch + (self.gamma*((1-isDonebatch)*torch.max(qVal2,dim=1)[0]))\n",
        "            X_q = qVal1.gather(dim=1,index=actBatch.long().unsqueeze(dim=1)).squeeze()\n",
        "            loss = mse(X_q, y_q.detach())\n",
        "            optimizer.zero_grad()\n",
        "            loss.backward()\n",
        "            optimizer.step()\n",
        "        self.stepsPerEpi.append(env.timestep1 + env.timestep2)\n",
        "        self.episode_rewards.append(reward1 + reward2)\n",
        "        self.epsilon_decay.append(agent.epsilon)\n",
        "    self.ploGraph()\n",
        "\n",
        "  # This method will run the agent on optimized DQN.\n",
        "  def runTrainedAgent(self, env, agent, episode):\n",
        "    episode_rewards = []\n",
        "    for i in range(episode):\n",
        "      env.reset()\n",
        "      agent.isLearn = False\n",
        "      done1 =False\n",
        "      done2 =False\n",
        "      obsAgnt1 = copy.deepcopy(env.state)\n",
        "      obsAgnt1[tuple(env.agent_pos2)] = 0\n",
        "      obsAgnt1 = torch.from_numpy(obsAgnt1.flatten()).float()\n",
        "      obsAgnt2 = copy.deepcopy(env.state)\n",
        "      obsAgnt2[tuple(env.agent_pos1)] = 0\n",
        "      obsAgnt2 = torch.from_numpy(obsAgnt2.flatten()).float()\n",
        "      while not done1 or not done2:\n",
        "        # Agent 1\n",
        "        if not done1:\n",
        "          q_Val = model(obsAgnt1)\n",
        "          action = agent.getAction(env.action_space, q_Val.data.numpy())\n",
        "          reward1, done1, obsAgnt1 = env.step(action, True)\n",
        "          obsAgnt1[tuple(env.agent_pos2)] = 0\n",
        "          obsAgnt1 = torch.from_numpy(obsAgnt1.flatten()).float()\n",
        "        #Agent 2\n",
        "        if not done2:\n",
        "          q_Val = model(obsAgnt2)\n",
        "          action = agent.getAction(env.action_space, q_Val.data.numpy())\n",
        "          reward2, done2, obsAgnt2 = env.step(action, False)\n",
        "          obsAgnt2[tuple(env.agent_pos1)] = 0\n",
        "          obsAgnt2 = torch.from_numpy(obsAgnt2.flatten()).float()\n",
        "      episode_rewards.append(reward1+reward2)\n",
        "    plt.plot(episode_rewards)\n",
        "    plt.title(\"Reward Per Episode\")\n",
        "    plt.xlabel(\"Number of Episodes\")\n",
        "    plt.ylabel(\"Reward\")\n",
        "    plt.show\n",
        "  # This method will plot the graph.\n",
        "  def ploGraph (self):\n",
        "    figure, axis = plt.subplots(1,2,figsize=(15,5))\n",
        "    axis[0].plot(self.episode_rewards)\n",
        "    axis[0].set_title(\"Reward Per Episode\")\n",
        "    axis[0].set_xlabel(\"Number of Episodes\")\n",
        "    axis[0].set_ylabel(\"Reward\")\n",
        "\n",
        "    axis[1].plot(self.epsilon_decay)\n",
        "    axis[1].set_title(\"Epsilon Decay\")\n",
        "    axis[1].set_xlabel(\"Number of Episodes\")\n",
        "    axis[1].set_ylabel(\"Epsilon\")"
      ]
    },
    {
      "cell_type": "code",
      "execution_count": null,
      "metadata": {
        "colab": {
          "base_uri": "https://localhost:8080/",
          "height": 350
        },
        "id": "imSdoeqCg-PQ",
        "outputId": "af86e523-c6ff-47cd-c92b-af33b3599b29"
      },
      "outputs": [
        {
          "data": {
            "image/png": "[encoded data removed]",
            "text/plain": [
              "<Figure size 1080x360 with 2 Axes>"
            ]
          },
          "metadata": {
            "needs_background": "light"
          },
          "output_type": "display_data"
        }
      ],
      "source": [
        "np.random.seed(10)\n",
        "env = GridEnvironment()\n",
        "agent = SmartAgent(env)\n",
        "runAgent = RunAgent(0.992)\n",
        "runAgent.runAgentDQN(env, agent ,1800)"
      ]
    },
    {
      "cell_type": "code",
      "execution_count": null,
      "metadata": {
        "colab": {
          "base_uri": "https://localhost:8080/",
          "height": 295
        },
        "id": "EIsAM_CDaHJ7",
        "outputId": "f99edfc1-1df5-46b9-9bda-8c75bb521dde"
      },
      "outputs": [
        {
          "data": {
            "image/png": "[encoded data removed]",
            "text/plain": [
              "<Figure size 432x288 with 1 Axes>"
            ]
          },
          "metadata": {
            "needs_background": "light"
          },
          "output_type": "display_data"
        }
      ],
      "source": [
        "runAgent.runTrainedAgent(env, agent ,10)"
      ]
    },
    {
      "cell_type": "markdown",
      "metadata": {
        "id": "E7ZPOYX0q7mV"
      },
      "source": [
        "# Double DQN"
      ]
    },
    {
      "cell_type": "code",
      "execution_count": null,
      "metadata": {
        "id": "OtazJSNI7O0k"
      },
      "outputs": [],
      "source": [
        "model = torch.nn.Sequential(\n",
        "    torch.nn.Linear(49, 64),\n",
        "    torch.nn.Linear(64, 128),\n",
        "    torch.nn.Linear(128,4)\n",
        ")\n",
        "mse = torch.nn.MSELoss()\n",
        "optimizer = torch.optim.Adam(model.parameters(), lr=0.005)\n",
        "model_trgt = torch.nn.Sequential(\n",
        "    torch.nn.Linear(49, 64),\n",
        "    torch.nn.Linear(64, 128),\n",
        "    torch.nn.Linear(128,4)\n",
        ")\n",
        "mse = torch.nn.MSELoss()\n",
        "optimizer = torch.optim.Adam(model.parameters(), lr=0.005)"
      ]
    },
    {
      "cell_type": "code",
      "execution_count": null,
      "metadata": {
        "id": "6yWmn8lXmMMa"
      },
      "outputs": [],
      "source": [
        "class RunAgenDDQNt():\n",
        "  def __init__(self, decay = 0.99, gamma = 0.95):\n",
        "    self.episode_rewards = []\n",
        "    self.epsilon_decay = []\n",
        "    self.decay = decay\n",
        "    self.gamma = gamma\n",
        "    self.stepsPerEpi = []\n",
        "    self.losses = []\n",
        "    self.expReplay = deque(maxlen=100)\n",
        "    self.batchSize = 50\n",
        "\n",
        "  # This Method will make the agent run based on DDQN.\n",
        "  def runAgentDDQN(self, env, agent, episode):\n",
        "    for i in range(episode):\n",
        "        env.reset()\n",
        "        done1 =False\n",
        "        done2 =False\n",
        "        agent.epsilon = agent.epsilon*self.decay\n",
        "        obs1Agnt1 = copy.deepcopy(env.state)\n",
        "        obs1Agnt1[tuple(env.agent_pos2)] = 0\n",
        "        obs1Agnt1 = torch.from_numpy(obs1Agnt1.flatten()).float()\n",
        "        obs1Agnt2 = copy.deepcopy(env.state)\n",
        "        obs1Agnt2[tuple(env.agent_pos1)] = 0\n",
        "        obs1Agnt2 = torch.from_numpy(obs1Agnt2.flatten()).float()\n",
        "        while not done1 or not done2:\n",
        "          # Agent 1\n",
        "          if not done1:\n",
        "            q_Val = model(obs1Agnt1)\n",
        "            action = agent.getAction(env.action_space, q_Val.data.numpy())\n",
        "            reward1, done1, obs2Agnt1 = env.step(action, True)\n",
        "            obs2Agnt1[tuple(env.agent_pos2)] = 0\n",
        "            obs2Agnt1 = torch.from_numpy(obs2Agnt1.flatten()).float()\n",
        "            self.expReplay.append((obs1Agnt1,action,reward1,obs2Agnt1, 1 if done1 else 0))\n",
        "            obs1Agnt1 = obs2Agnt1\n",
        "          # Agent 2\n",
        "          if not done2:\n",
        "            q_Val = model(obs1Agnt2)\n",
        "            action = agent.getAction(env.action_space, q_Val.data.numpy())\n",
        "            reward2, done2, obs2Agnt2 = env.step(action, False)\n",
        "            obs2Agnt2[tuple(env.agent_pos1)] = 0\n",
        "            obs2Agnt2 = torch.from_numpy(obs2Agnt2.flatten()).float()\n",
        "            self.expReplay.append((obs1Agnt2,action,reward2,obs2Agnt2, 1 if done2 else 0))\n",
        "            obs1Agnt2 = obs2Agnt2\n",
        "          if len(self.expReplay) > self.batchSize:                                    \n",
        "            minibatch = random.sample(self.expReplay, self.batchSize)\n",
        "            obs1Batch = torch.cat([torch.reshape(o1,(1,49)) for (o1,a,r,o2,d) in minibatch])\n",
        "            actBatch = torch.Tensor([a for (o1,a,r,o2,d) in minibatch])\n",
        "            rwrdbatch = torch.Tensor([r for (o1,a,r,o2,d) in minibatch])\n",
        "            obs2Batch = torch.cat([torch.reshape(o2,(1,49)) for (o1,a,r,o2,d) in minibatch],0)\n",
        "            isDonebatch = torch.Tensor([d for (o1,a,r,o2,d) in minibatch])\n",
        "            qVal1 = model(obs1Batch)\n",
        "            qVal2 = model(obs2Batch) \n",
        "            maxAction = np.argmax(qVal2.data.numpy(), axis=1)\n",
        "            qVal2Trgt = (model_trgt(obs2Batch)).data.numpy()\n",
        "            y_q = rwrdbatch + (self.gamma*((1-isDonebatch)*torch.from_numpy(qVal2Trgt[np.arange(len(qVal2Trgt)), maxAction])))\n",
        "            X_q = qVal1.gather(dim=1,index=actBatch.long().unsqueeze(dim=1)).squeeze()\n",
        "            loss = mse(X_q, y_q.detach())\n",
        "            optimizer.zero_grad()\n",
        "            loss.backward()\n",
        "            optimizer.step()\n",
        "        self.stepsPerEpi.append(env.timestep1 + env.timestep2)\n",
        "        self.episode_rewards.append(reward1 + reward2)\n",
        "        self.epsilon_decay.append(agent.epsilon)\n",
        "        model_trgt = copy.deepcopy(model)\n",
        "    self.ploGraph()\n",
        "\n",
        "  # This method will run the agent on optimized DQN.\n",
        "  def runTrainedAgent(self, env, agent, episode):\n",
        "    episode_rewards = []\n",
        "    for i in range(episode):\n",
        "      env.reset()\n",
        "      agent.isLearn = False\n",
        "      done1 =False\n",
        "      done2 =False\n",
        "      obsAgnt1 = copy.deepcopy(env.state)\n",
        "      obsAgnt1[tuple(env.agent_pos2)] = 0\n",
        "      obsAgnt1 = torch.from_numpy(obsAgnt1.flatten()).float()\n",
        "      obsAgnt2 = copy.deepcopy(env.state)\n",
        "      obsAgnt2[tuple(env.agent_pos1)] = 0\n",
        "      obsAgnt2 = torch.from_numpy(obsAgnt2.flatten()).float()\n",
        "      while not done1 or not done2:\n",
        "        # Agent 1\n",
        "        if not done1:\n",
        "          q_Val = model(obsAgnt1)\n",
        "          action = agent.getAction(env.action_space, q_Val.data.numpy())\n",
        "          reward1, done1, obsAgnt1 = env.step(action, True)\n",
        "          obsAgnt1[tuple(env.agent_pos2)] = 0\n",
        "          obsAgnt1 = torch.from_numpy(obsAgnt1.flatten()).float()\n",
        "        #Agent 2\n",
        "        if not done2:\n",
        "          q_Val = model(obsAgnt2)\n",
        "          action = agent.getAction(env.action_space, q_Val.data.numpy())\n",
        "          reward2, done2, obsAgnt2 = env.step(action, False)\n",
        "          obsAgnt2[tuple(env.agent_pos1)] = 0\n",
        "          obsAgnt2 = torch.from_numpy(obsAgnt2.flatten()).float()\n",
        "      episode_rewards.append(reward1+reward2)\n",
        "    plt.plot(episode_rewards)\n",
        "    plt.title(\"Reward Per Episode\")\n",
        "    plt.xlabel(\"Number of Episodes\")\n",
        "    plt.ylabel(\"Reward\")\n",
        "    plt.show\n",
        "  # This method will plot the graph.\n",
        "  def ploGraph (self):\n",
        "    figure, axis = plt.subplots(1,2,figsize=(15,5))\n",
        "    axis[0].plot(self.episode_rewards)\n",
        "    axis[0].set_title(\"Reward Per Episode\")\n",
        "    axis[0].set_xlabel(\"Number of Episodes\")\n",
        "    axis[0].set_ylabel(\"Reward\")\n",
        "\n",
        "    axis[1].plot(self.epsilon_decay)\n",
        "    axis[1].set_title(\"Epsilon Decay\")\n",
        "    axis[1].set_xlabel(\"Number of Episodes\")\n",
        "    axis[1].set_ylabel(\"Epsilon\")"
      ]
    },
    {
      "cell_type": "code",
      "execution_count": null,
      "metadata": {
        "colab": {
          "base_uri": "https://localhost:8080/",
          "height": 350
        },
        "id": "XQMqtfowoy8y",
        "outputId": "79042f4a-16bf-4198-9b22-f193a32eb64f"
      },
      "outputs": [
        {
          "data": {
            "image/png": "[encoded data removed]",
            "text/plain": [
              "<Figure size 1080x360 with 2 Axes>"
            ]
          },
          "metadata": {
            "needs_background": "light"
          },
          "output_type": "display_data"
        }
      ],
      "source": [
        "np.random.seed(10)\n",
        "env = GridEnvironment()\n",
        "agent = SmartAgent(env)\n",
        "runAgent = RunAgenDDQNt(0.995)\n",
        "runAgent.runAgentDDQN(env, agent ,1800)"
      ]
    },
    {
      "cell_type": "code",
      "execution_count": null,
      "metadata": {
        "colab": {
          "base_uri": "https://localhost:8080/",
          "height": 295
        },
        "id": "LLd4gsZkpSj9",
        "outputId": "957c5fa3-cc09-4226-87d7-884d7217bd81"
      },
      "outputs": [
        {
          "data": {
            "image/png": "[encoded data removed]",
            "text/plain": [
              "<Figure size 432x288 with 1 Axes>"
            ]
          },
          "metadata": {
            "needs_background": "light"
          },
          "output_type": "display_data"
        }
      ],
      "source": [
        "runAgent.runTrainedAgent(env, agent ,10)"
      ]
    },
    {
      "cell_type": "code",
      "execution_count": null,
      "metadata": {
        "id": "TKUf632Zp_cY"
      },
      "outputs": [],
      "source": [
        ""
      ]
    }
  ],
  "metadata": {
    "accelerator": "GPU",
    "colab": {
      "collapsed_sections": [],
      "name": "aloktrip_chandak_spathak3_checkpoint_project.ipynb",
      "provenance": []
    },
    "kernelspec": {
      "display_name": "Python 3",
      "name": "python3"
    },
    "language_info": {
      "name": "python"
    }
  },
  "nbformat": 4,
  "nbformat_minor": 0
}
